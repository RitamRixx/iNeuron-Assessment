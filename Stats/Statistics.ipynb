{
 "cells": [
  {
   "cell_type": "markdown",
   "id": "b3f2f3de",
   "metadata": {},
   "source": [
    "# Statistics:"
   ]
  },
  {
   "cell_type": "markdown",
   "id": "d757b489",
   "metadata": {},
   "source": [
    "####  Q1. What is the meaning of six sigma in statistics?  Give proper example"
   ]
  },
  {
   "cell_type": "markdown",
   "id": "6dee1f63",
   "metadata": {},
   "source": [
    "**Ans:** In statistics, Six Sigma is a measure of quality that aims to achieve near-perfect processes with minimal defects. It refers to having less than 3.4 defects per million opportunities, indicating a high level of quality and efficiency.\n",
    "\n",
    "For example--\n",
    "\n",
    "In a manufacturing company producing electronic components, implementing Six Sigma principles in the soldering process reduced defects from 500 per million to less than 3.4 per million. This achievement exemplifies Six Sigma's focus on quality improvement, operational efficiency, and customer satisfaction through rigorous data-driven methodologies and continuous process enhancement.\n"
   ]
  },
  {
   "cell_type": "markdown",
   "id": "51fb3fd8",
   "metadata": {},
   "source": [
    "#### Q2. What type of data does not have a log-normal distribution or a Gaussian distribution?  Give proper example"
   ]
  },
  {
   "cell_type": "markdown",
   "id": "9e7b7e83",
   "metadata": {},
   "source": [
    "**Ans:** Data that does not have a log-normal distribution or a Gaussian distribution includes data that is not symmetrical and does not follow the typical bell curve shape of a normal distribution. \n",
    "\n",
    "An example of such data is the file size distribution of publicly available audio and video data files, which follows a log-normal distribution. This type of data exhibits a right-skewed distribution with a long tail towards the right, indicating that it does not conform to the characteristics of a Gaussian distribution or a log-normal distribution."
   ]
  },
  {
   "cell_type": "markdown",
   "id": "1661ec60",
   "metadata": {},
   "source": [
    "#### Q3. What is the meaning of the five-number summary in Statistics? Give proper example"
   ]
  },
  {
   "cell_type": "markdown",
   "id": "c215a417",
   "metadata": {},
   "source": [
    "**Ans:** The five-number summary in statistics provides key descriptive statistics about a dataset, including the minimum value, the first quartile (Q1), the median, the third quartile (Q3), and the maximum value. These statistics offer insights into the distribution of values, central tendency, variability, and the shape of the data. The five-number summary is particularly useful for understanding data distributions without being sensitive to outliers or skewed distributions, making it robust for preliminary data analysis.\n",
    "\n",
    "For example, let's consider a dataset representing body fat percentages in middle school girls. The five-number summary for this dataset includes:\n",
    "\n",
    "**Minimum Value:** The lowest body fat percentage observed.\n",
    "\n",
    "**First Quartile (Q1):** The value below which 25% of the data falls.\n",
    "\n",
    "**Median:** The middle value that splits the dataset into two halves.\n",
    "\n",
    "**Third Quartile (Q3):** The value below which 75% of the data falls.\n",
    "\n",
    "**Maximum Value:** The highest body fat percentage observed."
   ]
  },
  {
   "cell_type": "markdown",
   "id": "e0da10a5",
   "metadata": {},
   "source": [
    "#### Q4. What is correlation? Give an example with a dataset & graphical representation on jupyter Notebook"
   ]
  },
  {
   "cell_type": "markdown",
   "id": "3a1b0ea8",
   "metadata": {},
   "source": [
    "**Ans:** Correlation in statistics refers to the relationship between two variables, indicating how they move together. A positive correlation means that as one variable increases, the other also increases, while a negative correlation implies that as one variable increases, the other decreases. If there is no clear relationship between the variables, it indicates no correlation"
   ]
  },
  {
   "cell_type": "code",
   "execution_count": 1,
   "id": "a07f70fb",
   "metadata": {},
   "outputs": [
    {
     "name": "stdout",
     "output_type": "stream",
     "text": [
      "Correlation coefficient: 0.9735448547207368\n"
     ]
    },
    {
     "data": {
      "image/png": "[encoded data removed]",
      "text/plain": [
       "<Figure size 640x480 with 1 Axes>"
      ]
     },
     "metadata": {},
     "output_type": "display_data"
    }
   ],
   "source": [
    "import pandas as pd\n",
    "import seaborn as sns\n",
    "import matplotlib.pyplot as plt\n",
    "\n",
    "# Example dataset\n",
    "data = {\n",
    "    'X': [1, 2, 3, 4, 5, 6, 7, 8, 9, 10],\n",
    "    'Y': [2, 3, 5, 4, 6, 8, 7, 9, 10, 12]\n",
    "}\n",
    "\n",
    "df = pd.DataFrame(data)\n",
    "\n",
    "correlation = df['X'].corr(df['Y'])\n",
    "\n",
    "print(\"Correlation coefficient:\", correlation)\n",
    "\n",
    "# Plot scatter plot\n",
    "sns.scatterplot(x='X', y='Y', data=df)\n",
    "plt.title('Scatter Plot')\n",
    "plt.xlabel('X')\n",
    "plt.ylabel('Y')\n",
    "plt.show()\n"
   ]
  },
  {
   "cell_type": "code",
   "execution_count": null,
   "id": "1f27e2c5",
   "metadata": {},
   "outputs": [],
   "source": []
  }
 ],
 "metadata": {
  "kernelspec": {
   "display_name": "Python 3 (ipykernel)",
   "language": "python",
   "name": "python3"
  },
  "language_info": {
   "codemirror_mode": {
    "name": "ipython",
    "version": 3
   },
   "file_extension": ".py",
   "mimetype": "text/x-python",
   "name": "python",
   "nbconvert_exporter": "python",
   "pygments_lexer": "ipython3",
   "version": "3.11.5"
  }
 },
 "nbformat": 4,
 "nbformat_minor": 5
}
