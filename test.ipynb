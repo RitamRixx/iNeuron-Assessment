{
 "cells": [
  {
   "cell_type": "code",
   "execution_count": 24,
   "id": "bbb348a0",
   "metadata": {},
   "outputs": [
    {
     "name": "stdout",
     "output_type": "stream",
     "text": [
      "4\n"
     ]
    }
   ],
   "source": [
    "def largest_min_distance(stalls, k):\n",
    "    # Sort the stalls\n",
    "    stalls.sort()\n",
    "    \n",
    "    # Initialize the largest minimum distance to 0\n",
    "    largest_min_distance = 0\n",
    "    \n",
    "    # Iterate through the stalls\n",
    "    for i in range(1, len(stalls)):\n",
    "        # Calculate the minimum distance between the current stall and the previous one\n",
    "        min_distance = stalls[i] - stalls[i-1]\n",
    "        \n",
    "        # Update the largest minimum distance if the current minimum distance is larger\n",
    "        largest_min_distance = max(largest_min_distance, min_distance)\n",
    "    \n",
    "    # Return the largest minimum distance\n",
    "    return largest_min_distance\n",
    "\n",
    "# Example usage\n",
    "stalls = [1, 2, 4, 8, 9]\n",
    "k = 3\n",
    "output = largest_min_distance(stalls, k)\n",
    "print(output) # Output: 3\n"
   ]
  },
  {
   "cell_type": "code",
   "execution_count": 26,
   "id": "22994b19",
   "metadata": {},
   "outputs": [
    {
     "name": "stdout",
     "output_type": "stream",
     "text": [
      "3\n"
     ]
    }
   ],
   "source": [
    "def max_min_distance(stalls, k):\n",
    "    stalls.sort()\n",
    "\n",
    "    # Binary search on the range of distances\n",
    "    low, high = 0, stalls[-1] - stalls[0]\n",
    "    result = 0\n",
    "    while low <= high:\n",
    "        mid = (low + high) // 2\n",
    "        if is_valid(stalls, k, mid):\n",
    "            result = mid\n",
    "            low = mid + 1\n",
    "        else:\n",
    "            high = mid - 1\n",
    "\n",
    "    return result\n",
    "\n",
    "def is_valid(stalls, k, distance):\n",
    "    count = 1\n",
    "    prev_stall = stalls[0]\n",
    "    for stall in stalls[1:]:\n",
    "        if stall - prev_stall >= distance:\n",
    "            count += 1\n",
    "            prev_stall = stall\n",
    "    return count >= k\n",
    "\n",
    "# Example usage:\n",
    "stalls = [1, 2, 4, 8, 9]\n",
    "k = 3\n",
    "print(max_min_distance(stalls, k))  # Output: 3\n"
   ]
  },
  {
   "cell_type": "code",
   "execution_count": 28,
   "id": "42fa430c",
   "metadata": {},
   "outputs": [
    {
     "name": "stdout",
     "output_type": "stream",
     "text": [
      "---------------.|.---------------\n",
      "------------.|..|..|.------------\n",
      "---------.|..|..|..|..|.---------\n",
      "------.|..|..|..|..|..|..|.------\n",
      "---.|..|..|..|..|..|..|..|..|.---\n",
      "-------------WELCOME-------------\n",
      "---.|..|..|..|..|..|..|..|..|.---\n",
      "------.|..|..|..|..|..|..|.------\n",
      "---------.|..|..|..|..|.---------\n",
      "------------.|..|..|.------------\n",
      "---------------.|.---------------\n"
     ]
    }
   ],
   "source": [
    "def create_door_mat(N, M):\n",
    "    pattern = [('.|.' * (2*i + 1)).center(M, '-') for i in range(N//2)]\n",
    "    welcome_line = 'WELCOME'.center(M, '-')\n",
    "    door_mat = pattern + [welcome_line] + pattern[::-1]\n",
    "    \n",
    "    for line in door_mat:\n",
    "        print(line)\n",
    "\n",
    "# Define the size of the door mat (N x M)\n",
    "N = 11  # N should be an odd natural number\n",
    "M = 33  # M should be 3 times N\n",
    "\n",
    "create_door_mat(N, M)\n"
   ]
  },
  {
   "cell_type": "code",
   "execution_count": 33,
   "id": "31e8614a",
   "metadata": {},
   "outputs": [
    {
     "name": "stdout",
     "output_type": "stream",
     "text": [
      "[[-2, -1, 0, 2], [-2, 0, 0, 1]]\n"
     ]
    }
   ],
   "source": [
    "def fourSum(nums, target):\n",
    "    nums.sort()\n",
    "    n = len(nums)\n",
    "    result = []\n",
    "    \n",
    "    for i in range(n - 3):\n",
    "        if i > 0 and nums[i] == nums[i - 1]:\n",
    "            continue\n",
    "        for j in range(i + 1, n - 2):\n",
    "            if j > i + 1 and nums[j] == nums[j - 1]:\n",
    "                continue\n",
    "            left = j + 1\n",
    "            right = n - 1\n",
    "            while left < right:\n",
    "                total = nums[i] + nums[j] + nums[left] + nums[right]\n",
    "                if total == target:\n",
    "                    result.append([nums[i], nums[j], nums[left], nums[right]])\n",
    "                    while left < right and nums[left] == nums[left + 1]:\n",
    "                        left += 1\n",
    "                    while left < right and nums[right] == nums[right - 1]:\n",
    "                        right -= 1\n",
    "                    left += 1\n",
    "                    right -= 1\n",
    "                elif total < target:\n",
    "                    left += 1\n",
    "                else:\n",
    "                    right -= 1\n",
    "    \n",
    "    return result\n",
    "\n",
    "# Example usage\n",
    "nums = [1, 0, -1, 0, -2, 2]\n",
    "target = -1\n",
    "output = fourSum(nums, target)\n",
    "print(output)\n"
   ]
  }
 ],
 "metadata": {
  "kernelspec": {
   "display_name": "Python 3 (ipykernel)",
   "language": "python",
   "name": "python3"
  },
  "language_info": {
   "codemirror_mode": {
    "name": "ipython",
    "version": 3
   },
   "file_extension": ".py",
   "mimetype": "text/x-python",
   "name": "python",
   "nbconvert_exporter": "python",
   "pygments_lexer": "ipython3",
   "version": "3.11.5"
  }
 },
 "nbformat": 4,
 "nbformat_minor": 5
}
